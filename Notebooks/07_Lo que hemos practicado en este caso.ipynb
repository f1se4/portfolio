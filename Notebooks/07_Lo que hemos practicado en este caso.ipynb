{
 "cells": [
  {
   "cell_type": "markdown",
   "id": "33f8b220",
   "metadata": {},
   "source": [
    "# LO QUE HEMOS PRACTICADO O APRENDIDO EN ESTE CASO"
   ]
  },
  {
   "cell_type": "markdown",
   "id": "4dfcf217",
   "metadata": {},
   "source": [
    "* La forma de trabajar con casos del estilo \"análisis de entidades geográficas\": inmuebles, tiendas, oficinas, etc\n",
    "* Cómo aplicar metodología de Discovery y plantear objetivos, palancas, kpis y preguntas semilla\n",
    "* Cómo crear una base de datos SQLite, añadir tablas y cargarlas a Python\n",
    "* Técnicas de calidad de datos\n",
    "* Unir tablas para crear el datamart analítico\n",
    "* Incorporar datos externos y crear variables basadas en ellos para enriquecer el análisis\n",
    "* Técnicas de creación de variables:\n",
    "    * transformación directa\n",
    "    * funciones personalizadas para crear variables\n",
    "    * uso de apply\n",
    "    * creación basada en condiciones complejas\n",
    "    * diferentes discretizaciones\n",
    "* Varios gráficos de Matplotlib, Pandas y Seaborn\n",
    "* Cómo crear distancias geográficas con la distancia de Haversine\n",
    "* Crear un minicubo\n",
    "* Generar insights\n",
    "* Comunicar mediante un informe ejecutivo y exhibits\n",
    "* Cómo hacer mapas con Python y Folium"
   ]
  }
 ],
 "metadata": {
  "kernelspec": {
   "display_name": "Python 3",
   "language": "python",
   "name": "python3"
  },
  "language_info": {
   "codemirror_mode": {
    "name": "ipython",
    "version": 3
   },
   "file_extension": ".py",
   "mimetype": "text/x-python",
   "name": "python",
   "nbconvert_exporter": "python",
   "pygments_lexer": "ipython3",
   "version": "3.9.1"
  },
  "toc": {
   "base_numbering": 1,
   "nav_menu": {},
   "number_sections": true,
   "sideBar": true,
   "skip_h1_title": false,
   "title_cell": "Table of Contents",
   "title_sidebar": "Contents",
   "toc_cell": false,
   "toc_position": {},
   "toc_section_display": true,
   "toc_window_display": false
  },
  "varInspector": {
   "cols": {
    "lenName": 16,
    "lenType": 16,
    "lenVar": 40
   },
   "kernels_config": {
    "python": {
     "delete_cmd_postfix": "",
     "delete_cmd_prefix": "del ",
     "library": "var_list.py",
     "varRefreshCmd": "print(var_dic_list())"
    },
    "r": {
     "delete_cmd_postfix": ") ",
     "delete_cmd_prefix": "rm(",
     "library": "var_list.r",
     "varRefreshCmd": "cat(var_dic_list()) "
    }
   },
   "types_to_exclude": [
    "module",
    "function",
    "builtin_function_or_method",
    "instance",
    "_Feature"
   ],
   "window_display": false
  }
 },
 "nbformat": 4,
 "nbformat_minor": 5
}
